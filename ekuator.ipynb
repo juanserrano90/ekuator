{
 "cells": [
  {
   "cell_type": "markdown",
   "metadata": {},
   "source": [
    "# Ekuator"
   ]
  },
  {
   "cell_type": "code",
   "execution_count": 1,
   "metadata": {},
   "outputs": [],
   "source": [
    "import numpy as np\n",
    "import datetime\n",
    "from astropy.coordinates import EarthLocation\n",
    "from astropy.coordinates import Angle\n",
    "from astropy.time import Time\n",
    "from astropy import units as u"
   ]
  },
  {
   "cell_type": "markdown",
   "metadata": {},
   "source": [
    "**Funciones:**\n",
    "- Convertir coordenadas absolutas de un catálogo (ej, stellarium) a las coordenadas locales del telescopio Gran Ecuatorial,\n",
    "es decir: Ascención recta y declinación (en j2000.0) a Ángulo horario y Distancia polar norte.\n",
    "    [$\\alpha$, $\\delta$] $\\Rightarrow$ [$t$, $DPN$]\n",
    "    donde:\n",
    "$\n",
    "\\begin{equation}\n",
    "DPN = 90- \\delta\n",
    "\\end{equation}\n",
    "$\n",
    "$\n",
    "\\begin{equation}\n",
    "t = \\alpha - TSL\n",
    "\\end{equation}\n",
    "$\n",
    "\n",
    "- NOTIFICAR EL LADO EN QUE TIENE QUE ESTAR EL TELESCOPIO (ESTE U OESTE)\n",
    "\n",
    "con el telescopio ubicado en el este se pueden observar obetos con\n",
    "AR < 10h41m o AR > 22h41m, caso contrario hay que invertirlo \n",
    "- PODRÍA TAMBIÉN IR DANDO LOS PASOS A SEGUIR\n",
    "\n",
    "-> primero posicionar el telescopio en DPN, circulo graduado en la montura\n",
    "se observa con el telescopio adosado al tubo principal, ubicar y frenar (frena hacia la derecha la manija)\n",
    "\n",
    "-> luego ubicar en angulo horario, circulo graduado en el lado norte de la base del telescopio,\n",
    "soga derecha hacia abajo. prender relojería. "
   ]
  },
  {
   "cell_type": "code",
   "execution_count": 84,
   "metadata": {},
   "outputs": [
    {
     "name": "stdout",
     "output_type": "stream",
     "text": [
      "-34d54m32.7528s\n",
      "-57d55m57.9792s\n"
     ]
    }
   ],
   "source": [
    "# coordenadas del ecuato\n",
    "# lat = -34.909098\n",
    "# lon = -57.932772\n",
    "lat = Angle('-34.909098', unit=u.deg)\n",
    "lon = Angle('-57.932772', unit=u.deg)\n",
    "print(lat)\n",
    "print(lon)"
   ]
  },
  {
   "cell_type": "code",
   "execution_count": 85,
   "metadata": {},
   "outputs": [
    {
     "name": "stdout",
     "output_type": "stream",
     "text": [
      "19h22m23.9385304s\n"
     ]
    }
   ],
   "source": [
    "observing_location = EarthLocation(lat=lat.value, lon=lon.value)\n",
    "observing_time = Time(datetime.datetime.utcnow(), scale='utc', location=observing_location)\n",
    "LST = observing_time.sidereal_time('mean')\n",
    "print(LST)\n",
    "#tiempo sidereo medio o ts verdadero?"
   ]
  },
  {
   "cell_type": "code",
   "execution_count": 86,
   "metadata": {},
   "outputs": [],
   "source": [
    "# AR en h, m, s.\n",
    "def angulo_horario(alpha):\n",
    "    lst = Time(datetime.datetime.utcnow(), scale='utc', location=observing_location).sidereal_time('mean')\n",
    "    return lst - alpha"
   ]
  },
  {
   "cell_type": "code",
   "execution_count": 87,
   "metadata": {},
   "outputs": [],
   "source": [
    "# Dec en d, m, s.\n",
    "def dpn(delta):\n",
    "    return (Angle('90:00:00.00', unit=u.deg)) - delta"
   ]
  },
  {
   "cell_type": "code",
   "execution_count": 88,
   "metadata": {},
   "outputs": [
    {
     "data": {
      "text/latex": [
       "$-8^{\\mathrm{h}}59^{\\mathrm{m}}27.75351997^{\\mathrm{s}}$"
      ],
      "text/plain": [
       "<Angle -8.99104264 hourangle>"
      ]
     },
     "execution_count": 88,
     "metadata": {},
     "output_type": "execute_result"
    }
   ],
   "source": [
    "angulo_horario(Angle('10:23:00', unit=u.hourangle))"
   ]
  },
  {
   "cell_type": "code",
   "execution_count": 89,
   "metadata": {},
   "outputs": [
    {
     "data": {
      "text/latex": [
       "$44^\\circ36{}^\\prime37.67{}^{\\prime\\prime}$"
      ],
      "text/plain": [
       "<Angle 44.61046389 deg>"
      ]
     },
     "execution_count": 89,
     "metadata": {},
     "output_type": "execute_result"
    }
   ],
   "source": [
    "dpn(Angle('45:23:22.33', unit=u.deg))"
   ]
  }
 ],
 "metadata": {
  "kernelspec": {
   "display_name": "Python 3.9.7 ('base')",
   "language": "python",
   "name": "python3"
  },
  "language_info": {
   "codemirror_mode": {
    "name": "ipython",
    "version": 3
   },
   "file_extension": ".py",
   "mimetype": "text/x-python",
   "name": "python",
   "nbconvert_exporter": "python",
   "pygments_lexer": "ipython3",
   "version": "3.9.7"
  },
  "orig_nbformat": 4,
  "vscode": {
   "interpreter": {
    "hash": "755f4088592e2ca23da0ea5c845a97fbd67bd8d07a47301bdd385c93533968f4"
   }
  }
 },
 "nbformat": 4,
 "nbformat_minor": 2
}
